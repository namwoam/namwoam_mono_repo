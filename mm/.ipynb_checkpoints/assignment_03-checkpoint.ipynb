{
 "cells": [
  {
   "cell_type": "markdown",
   "metadata": {},
   "source": [
    "# Management Mathematics Assignment 3\n",
    "B10611008 梁安哲"
   ]
  },
  {
   "cell_type": "markdown",
   "metadata": {},
   "source": [
    "## 1. Cosine Similarity"
   ]
  },
  {
   "cell_type": "markdown",
   "metadata": {},
   "source": [
    "### (a)"
   ]
  },
  {
   "cell_type": "code",
   "execution_count": 1,
   "metadata": {},
   "outputs": [],
   "source": [
    "A = \"I love Management Mathematics\"\n",
    "B = \"I hate Management Mathematics\"\n",
    "C = \"I love Operations Research\"\n",
    "D = \"I hate Operations Research\"\n",
    "E = \"I love Manufacturing Data Science\"\n",
    "F = \"I hate Manufacturing Data Science\""
   ]
  },
  {
   "cell_type": "markdown",
   "metadata": {},
   "source": [
    "### (b)"
   ]
  },
  {
   "cell_type": "code",
   "execution_count": 2,
   "metadata": {},
   "outputs": [
    {
     "name": "stdout",
     "output_type": "stream",
     "text": [
      "['i', 'love', 'management', 'mathematics']\n",
      "['i', 'hate', 'management', 'mathematics']\n",
      "['i', 'love', 'operations', 'research']\n",
      "['i', 'hate', 'operations', 'research']\n",
      "['i', 'love', 'manufacturing', 'data', 'science']\n"
     ]
    }
   ],
   "source": [
    "wordsA = A.lower().split()\n",
    "wordsB = B.lower().split()\n",
    "wordsC = C.lower().split()\n",
    "wordsD = D.lower().split()\n",
    "wordsE = E.lower().split()\n",
    "wordsF = F.lower().split()\n",
    "print(wordsA , wordsB , wordsC , wordsD , wordsE , sep=\"\\n\")\n"
   ]
  },
  {
   "cell_type": "markdown",
   "metadata": {},
   "source": [
    "### (c)"
   ]
  },
  {
   "cell_type": "code",
   "execution_count": 3,
   "metadata": {},
   "outputs": [
    {
     "name": "stdout",
     "output_type": "stream",
     "text": [
      "management\n",
      "data\n",
      "science\n",
      "mathematics\n",
      "manufacturing\n",
      "research\n",
      "operations\n",
      "hate\n",
      "love\n",
      "i\n"
     ]
    }
   ],
   "source": [
    "vocab = set().union(wordsA).union(wordsB).union(wordsC).union(wordsD).union(wordsE)\n",
    "for word in vocab:\n",
    "    print(word)"
   ]
  },
  {
   "cell_type": "markdown",
   "metadata": {},
   "source": [
    "### (d)"
   ]
  },
  {
   "cell_type": "code",
   "execution_count": 4,
   "metadata": {},
   "outputs": [
    {
     "name": "stdout",
     "output_type": "stream",
     "text": [
      "['management', 'data', 'science', 'mathematics', 'manufacturing', 'research', 'operations', 'hate', 'love', 'i']\n"
     ]
    }
   ],
   "source": [
    "vocabList = list(vocab)\n",
    "print(vocabList)"
   ]
  },
  {
   "cell_type": "markdown",
   "metadata": {},
   "source": [
    "### (e)"
   ]
  },
  {
   "cell_type": "code",
   "execution_count": 5,
   "metadata": {},
   "outputs": [
    {
     "name": "stdout",
     "output_type": "stream",
     "text": [
      "[1. 0. 0. 1. 0. 0. 0. 0. 1. 1.]\n",
      "[1. 0. 0. 1. 0. 0. 0. 1. 0. 1.]\n",
      "[0. 0. 0. 0. 0. 1. 1. 0. 1. 1.]\n",
      "[0. 0. 0. 0. 0. 1. 1. 1. 0. 1.]\n",
      "[0. 1. 1. 0. 1. 0. 0. 0. 1. 1.]\n",
      "[0. 1. 1. 0. 1. 0. 0. 1. 0. 1.]\n"
     ]
    }
   ],
   "source": [
    "import numpy as np\n",
    "vA = np.zeros(len(vocabList), dtype=float)\n",
    "vB = np.zeros(len(vocabList), dtype=float)\n",
    "vC = np.zeros(len(vocabList), dtype=float)\n",
    "vD = np.zeros(len(vocabList), dtype=float)\n",
    "vE = np.zeros(len(vocabList), dtype=float)\n",
    "vF = np.zeros(len(vocabList), dtype=float)\n",
    "for w, v in [(wordsA, vA), (wordsB, vB), (wordsC, vC), (wordsD, vD), (wordsE, vE), (wordsF, vF)]:\n",
    "    for word in w:\n",
    "        i = vocabList.index(word)\n",
    "        v[i] += 1\n",
    "\n",
    "print(vA, vB, vC, vD, vE, vF, sep='\\n')\n"
   ]
  },
  {
   "cell_type": "markdown",
   "metadata": {},
   "source": [
    "### (f)"
   ]
  },
  {
   "cell_type": "code",
   "execution_count": 6,
   "metadata": {},
   "outputs": [
    {
     "name": "stdout",
     "output_type": "stream",
     "text": [
      "1.0                 0.75                0.5                 0.25                0.447               0.224               \n",
      "0.75                1.0                 0.25                0.5                 0.224               0.447               \n",
      "0.5                 0.25                1.0                 0.75                0.447               0.224               \n",
      "0.25                0.5                 0.75                1.0                 0.224               0.447               \n",
      "0.447               0.224               0.447               0.224               1.0                 0.8                 \n",
      "0.224               0.447               0.224               0.447               0.8                 1.0                 \n"
     ]
    }
   ],
   "source": [
    "def cosineSimilarity(vA, vB):\n",
    "    return np.dot(vA, vB) / (np.linalg.norm(vA) * np.linalg.norm(vB))\n",
    "\n",
    "\n",
    "v = [vA, vB, vC, vD, vE, vF]\n",
    "\n",
    "result = []\n",
    "\n",
    "for a in v:\n",
    "    result.append([])\n",
    "    for b in v:\n",
    "        result[-1].append(cosineSimilarity(a, b))\n",
    "\n",
    "for row in result:\n",
    "    for col in row:\n",
    "        print(f\"{col.round(3) : <20}\", end=\"\")\n",
    "    print()\n"
   ]
  },
  {
   "cell_type": "markdown",
   "metadata": {},
   "source": [
    "### (g)\n",
    "From the 6x6 matrix we constructed above, we can see that the three pairs of string (A,B) , (C,D) , (E,F) generates higher cosine value when we perform cosine similarity test, indicating lower angle between two vectors. We can make the conclusion that these pairs of string are more alike to each other."
   ]
  },
  {
   "cell_type": "markdown",
   "metadata": {},
   "source": [
    "##  2.Information Retrieval"
   ]
  },
  {
   "cell_type": "markdown",
   "metadata": {},
   "source": [
    "### (a)"
   ]
  },
  {
   "cell_type": "code",
   "execution_count": 7,
   "metadata": {},
   "outputs": [
    {
     "name": "stdout",
     "output_type": "stream",
     "text": [
      "0.0       0.594     0.327     0.0       0.1       0.0       0.147     0.154     \n",
      "0.0       0.0       0.0       0.0       0.0       0.5       0.442     0.309     \n",
      "0.539     0.396     0.436     0.574     0.4       0.0       0.442     0.463     \n",
      "0.647     0.495     0.327     0.344     0.4       0.4       0.442     0.309     \n",
      "0.0       0.0       0.0       0.0       0.3       0.0       0.59      0.463     \n",
      "0.0       0.0       0.0       0.0       0.4       0.6       0.0       0.309     \n",
      "0.0       0.0       0.546     0.229     0.3       0.3       0.0       0.154     \n",
      "0.539     0.297     0.327     0.229     0.4       0.2       0.147     0.154     \n",
      "0.0       0.0       0.0       0.574     0.1       0.3       0.147     0.0       \n",
      "0.0       0.396     0.436     0.344     0.4       0.1       0.0       0.463     \n"
     ]
    }
   ],
   "source": [
    "M = np.array([[0, 6, 3, 0, 1, 0, 1, 1],\n",
    "              [0, 0, 0, 0, 0, 5, 3, 2],\n",
    "              [5, 4, 4, 5, 4, 0, 3, 3],\n",
    "              [6, 5, 3, 3, 4, 4, 3, 2],\n",
    "              [0, 0, 0, 0, 3, 0, 4, 3],\n",
    "              [0, 0, 0, 0, 4, 6, 0, 2],\n",
    "              [0, 0, 5, 2, 3, 3, 0, 1],\n",
    "              [5, 3, 3, 2, 4, 2, 1, 1],\n",
    "              [0, 0, 0, 5, 1, 3, 1, 0],\n",
    "              [0, 4, 4, 3, 4, 1, 0, 3]\n",
    "              ], dtype=float)\n",
    "\n",
    "Q = M.T\n",
    "\n",
    "for i, row in enumerate(Q):\n",
    "    Q[i] = row / np.linalg.norm(row)\n",
    "\n",
    "Q = Q.T\n",
    "\n",
    "for row in Q:\n",
    "    for col in row:\n",
    "        print(f\"{col.round(3) : <10}\", end=\"\")\n",
    "    print()\n"
   ]
  },
  {
   "cell_type": "markdown",
   "metadata": {},
   "source": [
    "### (b)"
   ]
  },
  {
   "cell_type": "code",
   "execution_count": 8,
   "metadata": {},
   "outputs": [
    {
     "name": "stdout",
     "output_type": "stream",
     "text": [
      "[[0.57735027]\n",
      " [0.        ]\n",
      " [0.        ]\n",
      " [0.57735027]\n",
      " [0.        ]\n",
      " [0.        ]\n",
      " [0.        ]\n",
      " [0.57735027]\n",
      " [0.        ]\n",
      " [0.        ]]\n"
     ]
    }
   ],
   "source": [
    "x = np.array([[1, 0, 0, 1, 0, 0, 0, 1, 0, 0]], dtype=float)\n",
    "x = x / np.linalg.norm(x)\n",
    "x = np.transpose(x)\n",
    "\n",
    "print(x)\n"
   ]
  },
  {
   "cell_type": "markdown",
   "metadata": {},
   "source": [
    "### (c)"
   ]
  },
  {
   "cell_type": "code",
   "execution_count": 9,
   "metadata": {},
   "outputs": [
    {
     "name": "stdout",
     "output_type": "stream",
     "text": [
      "[('M2', 0.8003267306650412), ('M1', 0.6848300870011594), ('M3', 0.566946709513841), ('M5', 0.5196152422706632), ('M7', 0.42562826537937437), ('M8', 0.35634832254989923), ('M6', 0.3464101615137755), ('M4', 0.33113308926626095)]\n"
     ]
    }
   ],
   "source": [
    "y = np.matmul(Q.T, x)\n",
    "\n",
    "rank = []\n",
    "for i, val in enumerate(np.transpose(y)[0]):\n",
    "    rank.append((f\"M{i+1}\", val))\n",
    "rank = sorted(rank, key=lambda x: x[1], reverse=True)\n",
    "print(rank)\n"
   ]
  },
  {
   "cell_type": "markdown",
   "metadata": {},
   "source": [
    "We can rank the modules by their cosine value in descending order. M2->M1->M3->M5->M7->M8->M6->M4"
   ]
  },
  {
   "cell_type": "markdown",
   "metadata": {},
   "source": [
    "## Reference\n",
    "1. https://stackoverflow.com/questions/10695139/sort-a-list-of-tuples-by-2nd-item-integer-value\n",
    "2. https://numpy.org/doc/stable/reference/generated/numpy.transpose.html\n",
    "3. https://stackoverflow.com/questions/52781433/how-to-get-the-unit-vector-from-a-numpy-array"
   ]
  }
 ],
 "metadata": {
  "interpreter": {
   "hash": "263930470851f494f0ed2879c35b57985588df20f9e529b86e97dd5eb9ddc466"
  },
  "kernelspec": {
   "display_name": "Python 3 (ipykernel)",
   "language": "python",
   "name": "python3"
  },
  "language_info": {
   "codemirror_mode": {
    "name": "ipython",
    "version": 3
   },
   "file_extension": ".py",
   "mimetype": "text/x-python",
   "name": "python",
   "nbconvert_exporter": "python",
   "pygments_lexer": "ipython3",
   "version": "3.9.7"
  }
 },
 "nbformat": 4,
 "nbformat_minor": 2
}
