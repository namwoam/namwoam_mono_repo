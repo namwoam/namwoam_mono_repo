{
 "cells": [
  {
   "cell_type": "markdown",
   "id": "87767f63",
   "metadata": {},
   "source": [
    "# Management Mathematics Assignment 2\n",
    "B10611008 梁安哲"
   ]
  },
  {
   "cell_type": "markdown",
   "id": "ec214ec2",
   "metadata": {},
   "source": [
    "## 1. Linear Regression"
   ]
  },
  {
   "cell_type": "markdown",
   "id": "1fc06ca4",
   "metadata": {},
   "source": [
    "###  (a) \n",
    "1. Use ```np.random.normal``` to generate a dataset with normal distribution.\n",
    "2. Use ```np.where``` to manipulate a array.\n",
    "3. Use ```np.random.binomial``` to generate a dataset with binomial distribution.\n",
    "4. Use ```np.around``` to round each element in the array."
   ]
  },
  {
   "cell_type": "code",
   "execution_count": 1,
   "id": "d0c47849",
   "metadata": {},
   "outputs": [],
   "source": [
    "import numpy as np\n",
    "\n",
    "studentCount = 2000\n",
    "hsMathGPA = np.random.normal(loc = 3.5 , scale = 0.5 , size = studentCount)\n",
    "hsMathGPA = np.where(hsMathGPA<2.0 , 2.0 , np.where(hsMathGPA>4.0 , 4.0 , hsMathGPA))\n",
    "\n",
    "hsCalculus = np.random.binomial( n = 1 , p = np.where( hsMathGPA>=3.6 , 0.75 , 0.40 ) , size = studentCount)\n",
    "preCalculus = np.random.binomial( n = 1 , p = np.where( hsCalculus == 0 , 0.70 , np.where(hsMathGPA < 3.5 , 0.60 , 0.25) ) , size = studentCount)\n",
    "\n",
    "calculusGrade = (0.3+0.7*hsMathGPA+0.3*hsCalculus+0.1*preCalculus)+np.random.normal(loc = 0 , scale = 0.5 , size = studentCount)\n",
    "calculusGrade = np.around( calculusGrade, decimals = 1)\n",
    "calculusGrade = np.where(calculusGrade>4.0 , 4.0 , np.where(calculusGrade<0.7 , 0.7 , calculusGrade))\n"
   ]
  },
  {
   "cell_type": "markdown",
   "id": "dd17c5d3",
   "metadata": {},
   "source": [
    "###  (b)\n",
    "1. Use ```np.linalg.lstsq``` to estimate linear regression."
   ]
  },
  {
   "cell_type": "code",
   "execution_count": 2,
   "id": "bc5308ad",
   "metadata": {},
   "outputs": [
    {
     "name": "stdout",
     "output_type": "stream",
     "text": [
      "[0.2916569  0.69607845 0.3325839  0.08889026]\n"
     ]
    }
   ],
   "source": [
    "linearRegressionResult = np.linalg.lstsq(np.vstack([np.ones(studentCount) , hsMathGPA , hsCalculus , preCalculus ]).T, calculusGrade, rcond=None)\n",
    "print(linearRegressionResult[0])"
   ]
  },
  {
   "cell_type": "markdown",
   "id": "c533b338",
   "metadata": {},
   "source": [
    "###  (c)\n",
    "1. Use ```np.vstsck``` to set up the design matrix."
   ]
  },
  {
   "cell_type": "code",
   "execution_count": 3,
   "id": "cdf9d6c1",
   "metadata": {},
   "outputs": [],
   "source": [
    "X = np.vstack([np.ones(studentCount) , hsMathGPA , hsCalculus , preCalculus ]).T\n",
    "y = calculusGrade"
   ]
  },
  {
   "cell_type": "markdown",
   "id": "64470b3b",
   "metadata": {},
   "source": [
    "###  (d)\n",
    "1. Use ```np.matmul``` to get the product of two matrix.\n",
    "2. Use ```np.linalg.inv``` to get the inverse of a matrix.\n",
    "3. Use ```np.linalg.det``` to get the determinant of a matrix."
   ]
  },
  {
   "cell_type": "code",
   "execution_count": 4,
   "id": "5020a17b",
   "metadata": {},
   "outputs": [],
   "source": [
    "C = np.matmul(X.T , X)\n",
    "inverseC = np.linalg.inv(C)\n",
    "A = inverseC\n",
    "determinantC = np.linalg.det(C)\n",
    "adjointC =np.matrix(C).getH()"
   ]
  },
  {
   "cell_type": "markdown",
   "id": "c85b77bb",
   "metadata": {},
   "source": [
    "###  (e)"
   ]
  },
  {
   "cell_type": "code",
   "execution_count": 5,
   "id": "bb8306f8",
   "metadata": {},
   "outputs": [
    {
     "name": "stdout",
     "output_type": "stream",
     "text": [
      "beta = [0.2916569  0.69607845 0.3325839  0.08889026]\n",
      "residuals = [ 1.03778981 -0.16486096  0.06924611 ... -1.11051477  0.18999778\n",
      "  0.37796512]\n",
      "residuals variance = 0.228961197905308\n",
      "standard error = [0.09308127 0.02615298 0.02311775 0.0230528 ]\n"
     ]
    }
   ],
   "source": [
    "betaHat = np.matmul( np.matmul(inverseC , X.T) , y)\n",
    "print(\"beta =\" , betaHat)\n",
    "residuals = y - np.matmul(X , betaHat)\n",
    "print(\"residuals =\" , residuals)\n",
    "residualsVariance = (np.matmul(residuals.T , residuals) / (len(y) - len(betaHat) - 1)).item(0)\n",
    "print(\"residuals variance =\" , residualsVariance)\n",
    "covarianceMatrix = residualsVariance*(A)\n",
    "manualStandardError = np.sqrt(np.diag(covarianceMatrix))\n",
    "print(\"standard error =\",manualStandardError)"
   ]
  },
  {
   "cell_type": "markdown",
   "id": "1fffec57",
   "metadata": {},
   "source": [
    "###  (f)"
   ]
  },
  {
   "cell_type": "code",
   "execution_count": 6,
   "id": "8594cf9e",
   "metadata": {},
   "outputs": [
    {
     "name": "stdout",
     "output_type": "stream",
     "text": [
      "                      Truth                 Manual                np.linalg.lstsq       \n",
      "Intercept             0.3                   0.2916568998289516    0.2916568998289444    \n",
      "hsMathGPA             0.7                   0.6960784516351054    0.6960784516351066    \n",
      "hsCalculus            0.3                   0.33258389873175026   0.33258389873175453   \n",
      "preCalculus           0.1                   0.08889025681504399   0.08889025681504736   \n"
     ]
    }
   ],
   "source": [
    "showF = [\n",
    "    [\"\"  , \"Truth\" , \"Manual\" , \"np.linalg.lstsq\"],\n",
    "    [\"Intercept\" , 0.3 , linearRegressionResult[0].item(0) , betaHat.item(0) ],\n",
    "    [\"hsMathGPA\" , 0.7 , linearRegressionResult[0].item(1) , betaHat.item(1) ],\n",
    "    [\"hsCalculus\" , 0.3 , linearRegressionResult[0].item(2) , betaHat.item(2) ],\n",
    "    [\"preCalculus\" , 0.1 , linearRegressionResult[0].item(3) , betaHat.item(3) ],\n",
    "]\n",
    "\n",
    "\n",
    "\n",
    "for row in showF:\n",
    "    for col in row:\n",
    "        print('{0: <20}'.format(col) , end  = \"  \")\n",
    "    print()\n",
    "        "
   ]
  },
  {
   "cell_type": "markdown",
   "id": "25aa67c5",
   "metadata": {},
   "source": [
    "###  (g)"
   ]
  },
  {
   "cell_type": "code",
   "execution_count": 7,
   "id": "7b186efb",
   "metadata": {},
   "outputs": [
    {
     "name": "stdout",
     "output_type": "stream",
     "text": [
      "(standard error)      Truth                 Manual                \n",
      "Intercept             0.09726382909785511   0.09308127058901751   \n",
      "hsMathGPA             0.027328154319109732  0.026152983595949916  \n",
      "hsCalculus            0.024156530512122798  0.023117746586231662  \n",
      "preCalculus           0.024088662035853196  0.023052796603666617  \n"
     ]
    }
   ],
   "source": [
    "trueStandardError = np.sqrt(np.diag(0.25*A))\n",
    "\n",
    "showG = [\n",
    "    [\"(standard error)\"  , \"Truth\" , \"Manual\"],\n",
    "    [\"Intercept\" , trueStandardError.item(0) , manualStandardError.item(0)  ],\n",
    "    [\"hsMathGPA\" , trueStandardError.item(1) , manualStandardError.item(1)  ],\n",
    "    [\"hsCalculus\" , trueStandardError.item(2) , manualStandardError.item(2) ],\n",
    "    [\"preCalculus\" , trueStandardError.item(3) , manualStandardError.item(3) ],\n",
    "]\n",
    "\n",
    "\n",
    "for row in showG:\n",
    "    for col in row:\n",
    "        print('{0: <20}'.format(col) , end  = \"  \")\n",
    "    print()"
   ]
  },
  {
   "cell_type": "markdown",
   "id": "d2ad4241",
   "metadata": {},
   "source": [
    "###  (h)"
   ]
  },
  {
   "cell_type": "code",
   "execution_count": 8,
   "id": "6ea33c68",
   "metadata": {},
   "outputs": [
    {
     "name": "stdout",
     "output_type": "stream",
     "text": [
      "                      Truth                 Manual                \n",
      "residual variance     0.25                  0.228961197905308     \n"
     ]
    }
   ],
   "source": [
    "trueResidualVariance = 0.25\n",
    "showH = [\n",
    "    [\"\"  , \"Truth\" , \"Manual\"],\n",
    "    [\"residual variance\" , trueResidualVariance , residualsVariance  ]\n",
    "]\n",
    "\n",
    "for row in showH:\n",
    "    for col in row:\n",
    "        print('{0: <20}'.format(col) , end  = \"  \")\n",
    "    print()"
   ]
  },
  {
   "cell_type": "markdown",
   "id": "3e997ea9",
   "metadata": {},
   "source": [
    "###  (i)"
   ]
  },
  {
   "cell_type": "code",
   "execution_count": 9,
   "id": "6ef05783",
   "metadata": {},
   "outputs": [
    {
     "name": "stdout",
     "output_type": "stream",
     "text": [
      "                      Truth                 Manual                np.linalg.lstsq       \n",
      "calculus grade        2.7864192             2.7984112147910825    2.7984112147910816    \n"
     ]
    }
   ],
   "source": [
    "fakeStudent =np.array( [1 , 3.123456 , 1 , 0])\n",
    "realWeight = np.array([0.3 , 0.7 , 0.3 , 0.1])\n",
    "truth = np.matmul(realWeight , fakeStudent.T).item(0)\n",
    "computer = np.matmul(linearRegressionResult[0] , fakeStudent.T).item(0)\n",
    "manual = np.matmul(betaHat , fakeStudent.T).item(0)\n",
    "\n",
    "showI = [\n",
    "    [\"\"  , \"Truth\" , \"Manual\" , \"np.linalg.lstsq\"],\n",
    "    [\"calculus grade\" , truth , manual , computer  ]\n",
    "]\n",
    "\n",
    "for row in showI:\n",
    "    for col in row:\n",
    "        print('{0: <20}'.format(col) , end  = \"  \")\n",
    "    print()\n"
   ]
  },
  {
   "cell_type": "markdown",
   "id": "74d90e07",
   "metadata": {},
   "source": [
    "## Reference\n",
    "1. https://stackoverflow.com/questions/39771056/why-is-the-adjoint-of-a-matrix-in-numpy-obtained-by-np-matrix-geth\n",
    "2. https://numpy.org/doc/1.22/reference/index.html\n",
    "3. https://stackoverflow.com/questions/8450472/how-to-print-a-string-at-a-fixed-width\n"
   ]
  }
 ],
 "metadata": {
  "kernelspec": {
   "display_name": "Python 3 (ipykernel)",
   "language": "python",
   "name": "python3"
  },
  "language_info": {
   "codemirror_mode": {
    "name": "ipython",
    "version": 3
   },
   "file_extension": ".py",
   "mimetype": "text/x-python",
   "name": "python",
   "nbconvert_exporter": "python",
   "pygments_lexer": "ipython3",
   "version": "3.9.7"
  }
 },
 "nbformat": 4,
 "nbformat_minor": 5
}
